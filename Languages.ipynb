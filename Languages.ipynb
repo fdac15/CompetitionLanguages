{
 "cells": [
  {
   "cell_type": "markdown",
   "metadata": {},
   "source": [
    "This code goes from Topcoder's winners page, to the problem statement, to the problem detail of each SRM"
   ]
  },
  {
   "cell_type": "code",
   "execution_count": null,
   "metadata": {
    "collapsed": false
   },
   "outputs": [],
   "source": [
    "import requests, json, sys, time, re\n",
    "from bs4 import BeautifulSoup\n",
    "key = 'problem_statement'\n",
    "number = 1\n",
    "counter = 0\n",
    "problemStatements = []\n",
    "for Link in myLinks:\n",
    "    URL = Link\n",
    "    r = requests .get(URL)\n",
    "    t = r.text\n",
    "\n",
    "    soup = BeautifulSoup(t, 'html.parser')\n",
    "    start = 0\n",
    "    npages = 1\n",
    "    for link in soup.findAll('a'):\n",
    "        s = link.get('href')\n",
    "    \n",
    "        # Print the Problem Statement urls\n",
    "        if(key in str(s)):\n",
    "            counter += 1;\n",
    "            #print (\"http://community.topcoder.com\" + s)\n",
    "            problemStatements.append(\"http://community.topcoder.com\" + s)\n"
   ]
  },
  {
   "cell_type": "code",
   "execution_count": null,
   "metadata": {
    "collapsed": false,
    "scrolled": true
   },
   "outputs": [],
   "source": [
    "import requests, json, sys, time, re\n",
    "from bs4 import BeautifulSoup\n",
    "key = 'round_overview'\n",
    "number = 1\n",
    "counter = 0\n",
    "myLinks = []\n",
    "while(1):\n",
    "    URL = \"http://community.topcoder.com/tc?module=SrmDivisionWins&sc=&sd=&nr=200&sr=\" + str(number)\n",
    "    number += 200\n",
    "    r = requests .get(URL)\n",
    "    t = r.text\n",
    "    \n",
    "    if (\"An error has occurred when attempting to process your request\" in t):\n",
    "        print(\"There were no results matching your query.\")\n",
    "        print(counter)\n",
    "        sys.exit()\n",
    "    soup = BeautifulSoup(t, 'html.parser')\n",
    "    start = 0\n",
    "    npages = 1\n",
    "    for link in soup.findAll('a'):\n",
    "        s = link.get('href')\n",
    "        \n",
    "        if(\"topcoder\" in s):\n",
    "            continue;\n",
    "        \n",
    "        # Print the Round overview urls\n",
    "        if(key in str(s)):\n",
    "            counter += 1;\n",
    "            #print (\"http://community.topcoder.com\" + s)\n",
    "            myLinks.append(\"http://community.topcoder.com\" + s)\n",
    "\n"
   ]
  },
  {
   "cell_type": "markdown",
   "metadata": {},
   "source": [
    "This portion never would finish running on Jupyter, so I ran it on hydra instead. The only change I made was putting the links in a set to strip any duplicates"
   ]
  },
  {
   "cell_type": "code",
   "execution_count": null,
   "metadata": {
    "collapsed": false,
    "scrolled": true
   },
   "outputs": [],
   "source": [
    "import requests, json, sys, time, re\n",
    "from bs4 import BeautifulSoup\n",
    "key = 'ProblemDetail'\n",
    "number = 1\n",
    "counter = 0\n",
    "problemDetails = []\n",
    "for Statement in problemStatements:\n",
    "    URL = Statement\n",
    "    r = requests .get(URL)\n",
    "    t = r.text\n",
    "\n",
    "    soup = BeautifulSoup(t, 'html.parser')\n",
    "    start = 0\n",
    "    npages = 1\n",
    "    for link in soup.findAll('a'):\n",
    "        s = link.get('href')\n",
    "    \n",
    "        # Print the Problem Detail urls\n",
    "        if(key in str(s)):\n",
    "            counter += 1;\n",
    "            #print (\"http://community.topcoder.com\" + s)\n",
    "            problemDetails.append(\"http://community.topcoder.com\" + s)"
   ]
  },
  {
   "cell_type": "code",
   "execution_count": null,
   "metadata": {
    "collapsed": false
   },
   "outputs": [],
   "source": [
    "import requests, json, sys, time, re\n",
    "from bs4 import BeautifulSoup\n",
    "key = 'ProblemDetail'\n",
    "number = 1\n",
    "counter = 0\n",
    "#problemDetails = []\n",
    "\n",
    "URL = \"http://community.topcoder.com/tc?module=ProblemDetail&rd=15699&pm=12300\"\n",
    "r = requests .get(URL)\n",
    "t = r.content\n",
    "#print(t)"
   ]
  },
  {
   "cell_type": "code",
   "execution_count": null,
   "metadata": {
    "collapsed": true
   },
   "outputs": [],
   "source": []
  }
 ],
 "metadata": {
  "kernelspec": {
   "display_name": "Python 3",
   "language": "python",
   "name": "python3"
  },
  "language_info": {
   "codemirror_mode": {
    "name": "ipython",
    "version": 3
   },
   "file_extension": ".py",
   "mimetype": "text/x-python",
   "name": "python",
   "nbconvert_exporter": "python",
   "pygments_lexer": "ipython3",
   "version": "3.4.0"
  }
 },
 "nbformat": 4,
 "nbformat_minor": 0
}
