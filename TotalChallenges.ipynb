{
 "cells": [
  {
   "cell_type": "code",
   "execution_count": 3,
   "metadata": {
    "collapsed": false
   },
   "outputs": [
    {
     "name": "stdout",
     "output_type": "stream",
     "text": [
      "Division1\n",
      "22776\n",
      "99414\n",
      "242\n",
      "272\n",
      "5307\n",
      "Division2\n",
      "47772\n",
      "100379\n",
      "691\n",
      "1089\n",
      "8954\n"
     ]
    }
   ],
   "source": [
    "import csv, sys, re, pymongo, json\n",
    "import requests\n",
    "#now take a look at github\n",
    "client = pymongo.MongoClient (host=\"da0.eecs.utk.edu\")\n",
    "db = client ['TopCoder']\n",
    "# Reference a particular collection in the database\n",
    "coll = db ['challenges']\n",
    "javaDiv1Total = 0;\n",
    "CDiv1Total = 0;\n",
    "VBDiv1Total = 0;\n",
    "PythonDiv1Total = 0;\n",
    "CSharpDiv1Total = 0;\n",
    "\n",
    "javaDiv2Total = 0;\n",
    "CDiv2Total = 0;\n",
    "VBDiv2Total = 0;\n",
    "PythonDiv2Total = 0;\n",
    "CSharpDiv2Total = 0;\n",
    "\n",
    "for row in coll .find ({}):\n",
    "    #print(row['used_as']);\n",
    "    TwoDivs = re.search(',', row['used_as'])\n",
    "    Div2 = re.search('II', row['used_as'])\n",
    "    \n",
    "    if TwoDivs:\n",
    "        CDiv1Total += row['div_i_challenge_attempts_made_c++']\n",
    "        javaDiv1Total += row['div_i_challenge_attempts_made_java']\n",
    "        VBDiv1Total += row['div_i_challenge_attempts_made_vb']\n",
    "        PythonDiv1Total += row['div_i_challenge_attempts_made_python']\n",
    "        CSharpDiv1Total += row['div_i_challenge_attempts_made_c#']\n",
    "        \n",
    "        CDiv2Total += row['div_ii_challenge_attempts_made_c++']\n",
    "        javaDiv2Total += row['div_ii_challenge_attempts_made_java']\n",
    "        VBDiv2Total += row['div_ii_challenge_attempts_made_vb']\n",
    "        PythonDiv2Total += row['div_ii_challenge_attempts_made_python']\n",
    "        CSharpDiv2Total += row['div_ii_challenge_attempts_made_c#']\n",
    "        \n",
    "    else: \n",
    "        if(Div2):\n",
    "            CDiv2Total += row['challenge_attempts_made_c++']\n",
    "            javaDiv2Total += row['challenge_attempts_made_java']\n",
    "            VBDiv2Total += row['challenge_attempts_made_vb']\n",
    "            PythonDiv2Total += row['challenge_attempts_made_python']\n",
    "            CSharpDiv2Total += row['challenge_attempts_made_c#']\n",
    "        else:\n",
    "            CDiv1Total += row['challenge_attempts_made_c++']\n",
    "            javaDiv1Total += row['challenge_attempts_made_java']\n",
    "            VBDiv1Total += row['challenge_attempts_made_vb']\n",
    "            PythonDiv1Total += row['challenge_attempts_made_python']\n",
    "            CSharpDiv1Total += row['challenge_attempts_made_c#']\n",
    "\n",
    "print(\"Division1\")\n",
    "print(javaDiv1Total)\n",
    "print(CDiv1Total)\n",
    "print(VBDiv1Total)\n",
    "print(PythonDiv1Total)\n",
    "print(CSharpDiv1Total)\n",
    "\n",
    "print(\"Division2\")\n",
    "print(javaDiv2Total)\n",
    "print(CDiv2Total)\n",
    "print(VBDiv2Total)\n",
    "print(PythonDiv2Total)\n",
    "print(CSharpDiv2Total)\n"
   ]
  },
  {
   "cell_type": "code",
   "execution_count": null,
   "metadata": {
    "collapsed": true
   },
   "outputs": [],
   "source": []
  },
  {
   "cell_type": "code",
   "execution_count": null,
   "metadata": {
    "collapsed": true
   },
   "outputs": [],
   "source": []
  }
 ],
 "metadata": {
  "kernelspec": {
   "display_name": "Python 3",
   "language": "python",
   "name": "python3"
  },
  "language_info": {
   "codemirror_mode": {
    "name": "ipython",
    "version": 3
   },
   "file_extension": ".py",
   "mimetype": "text/x-python",
   "name": "python",
   "nbconvert_exporter": "python",
   "pygments_lexer": "ipython3",
   "version": "3.4.0"
  }
 },
 "nbformat": 4,
 "nbformat_minor": 0
}
