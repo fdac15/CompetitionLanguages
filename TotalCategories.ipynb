{
 "cells": [
  {
   "cell_type": "code",
   "execution_count": null,
   "metadata": {
    "collapsed": true
   },
   "outputs": [],
   "source": []
  },
  {
   "cell_type": "code",
   "execution_count": 16,
   "metadata": {
    "collapsed": false
   },
   "outputs": [
    {
     "name": "stdout",
     "output_type": "stream",
     "text": [
      "Encryption/Compression     26\n",
      "Advanced Math     82\n",
      "Recursion     136\n",
      "String Parsing     137\n",
      "Sorting     169\n",
      "Geometry     178\n",
      "String Manipulation     276\n",
      "Search     280\n",
      "Simulation     281\n",
      "Greedy     310\n",
      "Graph Theory     341\n",
      "Iteration     402\n",
      "Simple Search     402\n",
      "Math     431\n",
      "Simple Math     461\n",
      "Brute Force     509\n",
      "Dynamic Programming     609\n"
     ]
    }
   ],
   "source": [
    "import csv, sys, re, pymongo, json\n",
    "import requests\n",
    "import operator\n",
    "#now take a look at github\n",
    "fh2 = open('Competitors.txt', 'w+')\n",
    "client = pymongo.MongoClient (host=\"da0.eecs.utk.edu\")\n",
    "db = client ['TopCoder']\n",
    "# Reference a particular collection in the database\n",
    "coll = db ['challenges']\n",
    "\n",
    "Categories = {};\n",
    "for row in coll .find ({}):\n",
    "    category = row['categories']\n",
    "    MyCategory = category.split(\",\")\n",
    "    #print(MyCategory)\n",
    "    \n",
    "    for word in MyCategory:\n",
    "        if(word[0] == ' '):\n",
    "            word = word[1:]\n",
    "        if(word == \"Writer:\"):\n",
    "            continue;\n",
    "        #print(word)\n",
    "        \n",
    "        if word in Categories:\n",
    "            Categories[word] += 1;\n",
    "        else:\n",
    "            Categories[word] = 1;\n",
    "\n",
    "    \n",
    "\n",
    "sorted_Categories = sorted(Categories.items(), key=operator.itemgetter(1))\n",
    "for k, v in sorted_Categories:\n",
    "    print(k, '   ', v)"
   ]
  },
  {
   "cell_type": "code",
   "execution_count": null,
   "metadata": {
    "collapsed": true
   },
   "outputs": [],
   "source": []
  }
 ],
 "metadata": {
  "kernelspec": {
   "display_name": "Python 3",
   "language": "python",
   "name": "python3"
  },
  "language_info": {
   "codemirror_mode": {
    "name": "ipython",
    "version": 3
   },
   "file_extension": ".py",
   "mimetype": "text/x-python",
   "name": "python",
   "nbconvert_exporter": "python",
   "pygments_lexer": "ipython3",
   "version": "3.4.0"
  }
 },
 "nbformat": 4,
 "nbformat_minor": 0
}
