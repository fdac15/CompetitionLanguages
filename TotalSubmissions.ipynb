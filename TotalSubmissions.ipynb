{
 "cells": [
  {
   "cell_type": "code",
   "execution_count": 21,
   "metadata": {
    "collapsed": false
   },
   "outputs": [
    {
     "name": "stdout",
     "output_type": "stream",
     "text": [
      "{'div_i_problems_failed_by_challenge_c#': 0, '_id': ObjectId('564776297b22c705ce9b4c43'), 'div_ii_problems_submitted_overall': 44, 'div_i_challenge_accuracy_java': 28.57, 'div_i_submission_accuracy_python': 0.0, 'div_i_problems_submitted_python': 0, 'div_ii_challenge_accuracy_overall': 21.43, 'div_ii_opens': 60, 'div_i_submission_accuracy_overall': 81.25, 'div_ii_best_time_vb': None, 'div_i_problems_failed_by_challenge_python': 0, 'div_ii_best_time_python': None, 'div_i_competitors': 32, 'div_i_average_correct_time_vb': None, 'div_i_challenge_attempts_made_c#': 0, 'div_i_submission_accuracy_vb': 0.0, 'div_i_problems_failed_by_challenge_c++': 0, 'div_i_problems_correct_overall': 26, 'div_i_problems_failed_by_system_test_vb': 0, 'div_ii_average_correct_time_vb': None, 'div_ii_best_time_java': '0:11:59.0', 'div_i_best_time_vb': None, 'div_ii_problems_failed_by_challenge_python': 0, 'div_i_challenge_attempts_made_vb': 0, 'div_ii_challenge_accuracy_vb': 0.0, 'div_i_challenge_accuracy_c++': 0.0, 'div_ii_best_time_c++': None, 'div_i_problems_correct_vb': 0, 'overall_accuracy': 33.33, 'div_i_problems_failed_by_challenge_java': 2, 'div_ii_problems_failed_by_system_test_vb': 0, 'div_ii_point_value': 500, 'div_ii_average_correct_time_overall': '0:39:17.143', 'div_i_challenge_attempts_made_c++': 0, 'div_ii_average_correct_time_c++': None, 'div_i_challenge_attempts_made_python': 0, 'div_ii_submission_accuracy_c++': 0.0, 'div_i_best_time_java': '0:07:18.0', 'used_as': 'Division I Level Two , Division II Level Two', 'div_i_submission_accuracy_c#': 0.0, 'div_i_problems_submitted_c#': 0, 'div_ii_submission_accuracy_java': 47.73, 'div_i_challenge_accuracy_overall': 28.57, 'div_i_challenge_accuracy_c#': 0.0, 'div_ii_challenge_accuracy_c++': 0.0, 'categories': 'Writer:', 'div_ii_challenge_attempts_made_c++': 0, 'problem_name': 'Derivatives', 'div_i_problems_correct_c++': 0, 'div_ii_problems_failed_by_system_test_c++': 0, 'div_ii_problems_submitted_c#': 0, 'div_ii_submission_accuracy_python': 0.0, 'div_i_average_correct_time_c++': None, 'div_i_point_value': 500, 'div_ii_problems_failed_by_system_test_python': 0, 'div_i_percent_submitted': 100.0, 'div_i_problems_submitted_c++': 0, 'div_ii_challenge_accuracy_python': 0.0, 'div_i_problems_submitted_vb': 0, 'div_i_average_correct_time_c#': None, 'used_in': 'SRM 12', 'div_i_challenge_accuracy_python': 0.0, 'div_i_opens': 32, 'div_ii_problems_submitted_python': 0, 'div_ii_problems_failed_by_system_test_java': 20, 'div_ii_percent_submitted': 73.33, 'div_ii_problems_failed_by_system_test_c#': 0, 'div_i_problems_failed_by_system_test_java': 4, 'div_i_best_time_c#': None, 'div_i_problems_correct_java': 26, 'div_ii_problems_failed_by_challenge_java': 3, 'div_i_best_time_c++': None, 'div_ii_average_correct_time_python': None, 'div_i_challenge_attempts_made_overall': 7, 'div_ii_average_correct_time_java': '0:39:17.143', 'div_ii_competitors': 63, 'div_ii_problems_failed_by_challenge_vb': 0, 'div_ii_percent_open': 95.24, 'div_i_overall_accuracy': 81.25, 'div_ii_problems_failed_by_challenge_c#': 0, 'testers': 'Unknown', 'div_ii_submission_accuracy_c#': 0.0, 'div_i_challenge_accuracy_vb': 0.0, 'div_i_problems_failed_by_system_test_python': 0, 'div_ii_challenge_attempts_made_c#': 0, 'div_i_best_time_overall': '0:07:18.0', 'div_i_problems_correct_c#': 0, 'writer': 'Unknown', 'div_ii_problems_failed_by_system_test_overall': 20, 'div_ii_submission_accuracy_vb': 0.0, 'div_ii_challenge_attempts_made_overall': 14, 'div_i_problems_failed_by_system_test_c#': 0, 'div_i_best_time_python': None, 'div_i_submission_accuracy_java': 81.25, 'div_i_problems_failed_by_challenge_vb': 0, 'div_ii_best_time_c#': None, 'div_i_average_correct_time_overall': '0:15:45.269', 'div_ii_problems_correct_c#': 0, 'div_i_average_correct_time_java': '0:15:45.269', 'div_ii_problems_correct_java': 21, 'div_i_percent_open': 100.0, 'div_i_problems_correct_python': 0, 'div_ii_best_time_overall': '0:11:59.0', 'div_ii_problems_failed_by_challenge_overall': 3, 'div_ii_challenge_attempts_made_java': 14, 'div_ii_challenge_attempts_made_vb': 0, 'div_ii_problems_submitted_c++': 0, 'div_ii_problems_correct_overall': 21, 'div_ii_problems_submitted_java': 44, 'div_i_problems_failed_by_challenge_overall': 2, 'div_ii_submission_accuracy_overall': 47.73, 'div_ii_challenge_accuracy_java': 21.43, 'div_ii_challenge_attempts_made_python': 0, 'div_ii_challenge_accuracy_c#': 0.0, 'div_i_problems_failed_by_system_test_overall': 4, 'div_i_submission_accuracy_c++': 0.0, 'div_i_average_correct_time_python': None, 'div_ii_problems_submitted_vb': 0, 'div_ii_problems_correct_vb': 0, 'div_i_problems_failed_by_system_test_c++': 0, 'div_ii_problems_correct_python': 0, 'div_i_challenge_attempts_made_java': 7, 'div_ii_problems_correct_c++': 0, 'div_ii_problems_failed_by_challenge_c++': 0, 'div_i_problems_submitted_overall': 32, 'div_ii_average_correct_time_c#': None, 'div_i_problems_submitted_java': 32}\n"
     ]
    }
   ],
   "source": [
    "print(row)"
   ]
  },
  {
   "cell_type": "code",
   "execution_count": 36,
   "metadata": {
    "collapsed": false
   },
   "outputs": [
    {
     "name": "stdout",
     "output_type": "stream",
     "text": [
      "Division1\n",
      "59860\n",
      "267363\n",
      "761\n",
      "706\n",
      "13487\n",
      "Division2\n",
      "142258\n",
      "324222\n",
      "2049\n",
      "5132\n",
      "27782\n"
     ]
    }
   ],
   "source": [
    "import csv, sys, re, pymongo, json\n",
    "import requests\n",
    "#now take a look at github\n",
    "client = pymongo.MongoClient (host=\"da0.eecs.utk.edu\")\n",
    "db = client ['TopCoder']\n",
    "# Reference a particular collection in the database\n",
    "coll = db ['challenges']\n",
    "javaDiv1Total = 0;\n",
    "CDiv1Total = 0;\n",
    "VBDiv1Total = 0;\n",
    "PythonDiv1Total = 0;\n",
    "CSharpDiv1Total = 0;\n",
    "\n",
    "javaDiv2Total = 0;\n",
    "CDiv2Total = 0;\n",
    "VBDiv2Total = 0;\n",
    "PythonDiv2Total = 0;\n",
    "CSharpDiv2Total = 0;\n",
    "\n",
    "for row in coll .find ({}):\n",
    "    #print(row['used_as']);\n",
    "    TwoDivs = re.search(',', row['used_as'])\n",
    "    Div2 = re.search('II', row['used_as'])\n",
    "    \n",
    "    if TwoDivs:\n",
    "        CDiv1Total += row['div_i_problems_submitted_c++']\n",
    "        javaDiv1Total += row['div_i_problems_submitted_java']\n",
    "        VBDiv1Total += row['div_i_problems_submitted_vb']\n",
    "        PythonDiv1Total += row['div_i_problems_submitted_python']\n",
    "        CSharpDiv1Total += row['div_i_problems_submitted_c#']\n",
    "        \n",
    "        CDiv2Total += row['div_ii_problems_submitted_c++']\n",
    "        javaDiv2Total += row['div_ii_problems_submitted_java']\n",
    "        VBDiv2Total += row['div_ii_problems_submitted_vb']\n",
    "        PythonDiv2Total += row['div_ii_problems_submitted_python']\n",
    "        CSharpDiv2Total += row['div_ii_problems_submitted_c#']\n",
    "        \n",
    "    else: \n",
    "        if(Div2):\n",
    "            CDiv2Total += row['problems_submitted_c++']\n",
    "            javaDiv2Total += row['problems_submitted_java']\n",
    "            VBDiv2Total += row['problems_submitted_vb']\n",
    "            PythonDiv2Total += row['problems_submitted_python']\n",
    "            CSharpDiv2Total += row['problems_submitted_c#']\n",
    "        else:\n",
    "            CDiv1Total += row['problems_submitted_c++']\n",
    "            javaDiv1Total += row['problems_submitted_java']\n",
    "            VBDiv1Total += row['problems_submitted_vb']\n",
    "            PythonDiv1Total += row['problems_submitted_python']\n",
    "            CSharpDiv1Total += row['problems_submitted_c#']\n",
    "\n",
    "print(\"Division1\")\n",
    "print(javaDiv1Total)\n",
    "print(CDiv1Total)\n",
    "print(VBDiv1Total)\n",
    "print(PythonDiv1Total)\n",
    "print(CSharpDiv1Total)\n",
    "\n",
    "print(\"Division2\")\n",
    "print(javaDiv2Total)\n",
    "print(CDiv2Total)\n",
    "print(VBDiv2Total)\n",
    "print(PythonDiv2Total)\n",
    "print(CSharpDiv2Total)\n"
   ]
  },
  {
   "cell_type": "code",
   "execution_count": null,
   "metadata": {
    "collapsed": true
   },
   "outputs": [],
   "source": []
  }
 ],
 "metadata": {
  "kernelspec": {
   "display_name": "Python 3",
   "language": "python",
   "name": "python3"
  },
  "language_info": {
   "codemirror_mode": {
    "name": "ipython",
    "version": 3
   },
   "file_extension": ".py",
   "mimetype": "text/x-python",
   "name": "python",
   "nbconvert_exporter": "python",
   "pygments_lexer": "ipython3",
   "version": "3.4.0"
  }
 },
 "nbformat": 4,
 "nbformat_minor": 0
}
