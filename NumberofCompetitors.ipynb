{
 "cells": [
  {
   "cell_type": "code",
   "execution_count": 46,
   "metadata": {
    "collapsed": false
   },
   "outputs": [
    {
     "ename": "NameError",
     "evalue": "name 'operator' is not defined",
     "output_type": "error",
     "traceback": [
      "\u001b[1;31m---------------------------------------------------------------------------\u001b[0m",
      "\u001b[1;31mNameError\u001b[0m                                 Traceback (most recent call last)",
      "\u001b[1;32m<ipython-input-46-a1c32c2bc2ee>\u001b[0m in \u001b[0;36m<module>\u001b[1;34m()\u001b[0m\n\u001b[0;32m     48\u001b[0m                 \u001b[0mcompetitors\u001b[0m\u001b[1;33m[\u001b[0m\u001b[0mint\u001b[0m\u001b[1;33m(\u001b[0m\u001b[0mSRM\u001b[0m\u001b[1;33m)\u001b[0m\u001b[1;33m]\u001b[0m \u001b[1;33m=\u001b[0m \u001b[0mrow\u001b[0m\u001b[1;33m[\u001b[0m\u001b[1;34m'competitors'\u001b[0m\u001b[1;33m]\u001b[0m\u001b[1;33m;\u001b[0m\u001b[1;33m\u001b[0m\u001b[0m\n\u001b[0;32m     49\u001b[0m \u001b[1;33m\u001b[0m\u001b[0m\n\u001b[1;32m---> 50\u001b[1;33m \u001b[0msorted_x\u001b[0m \u001b[1;33m=\u001b[0m \u001b[0msorted\u001b[0m\u001b[1;33m(\u001b[0m\u001b[0mCategories\u001b[0m\u001b[1;33m.\u001b[0m\u001b[0mitems\u001b[0m\u001b[1;33m(\u001b[0m\u001b[1;33m)\u001b[0m\u001b[1;33m,\u001b[0m \u001b[0mkey\u001b[0m\u001b[1;33m=\u001b[0m\u001b[0moperator\u001b[0m\u001b[1;33m.\u001b[0m\u001b[0mitemgetter\u001b[0m\u001b[1;33m(\u001b[0m\u001b[1;36m1\u001b[0m\u001b[1;33m)\u001b[0m\u001b[1;33m)\u001b[0m\u001b[1;33m\u001b[0m\u001b[0m\n\u001b[0m\u001b[0;32m     51\u001b[0m \u001b[1;32mfor\u001b[0m \u001b[0mk\u001b[0m\u001b[1;33m,\u001b[0m \u001b[0mv\u001b[0m \u001b[1;32min\u001b[0m \u001b[0msorted\u001b[0m\u001b[1;33m(\u001b[0m\u001b[0mCategories\u001b[0m\u001b[1;33m.\u001b[0m\u001b[0mitems\u001b[0m\u001b[1;33m(\u001b[0m\u001b[1;33m)\u001b[0m\u001b[1;33m)\u001b[0m\u001b[1;33m:\u001b[0m\u001b[1;33m\u001b[0m\u001b[0m\n\u001b[0;32m     52\u001b[0m     \u001b[0mprint\u001b[0m\u001b[1;33m(\u001b[0m\u001b[0mk\u001b[0m\u001b[1;33m,\u001b[0m \u001b[1;34m'   '\u001b[0m\u001b[1;33m,\u001b[0m \u001b[0mv\u001b[0m\u001b[1;33m)\u001b[0m\u001b[1;33m\u001b[0m\u001b[0m\n",
      "\u001b[1;31mNameError\u001b[0m: name 'operator' is not defined"
     ]
    }
   ],
   "source": [
    "import csv, sys, re, pymongo, json\n",
    "import requests\n",
    "#now take a look at github\n",
    "fh2 = open('Competitors.txt', 'w+')\n",
    "client = pymongo.MongoClient (host=\"da0.eecs.utk.edu\")\n",
    "db = client ['TopCoder']\n",
    "# Reference a particular collection in the database\n",
    "coll = db ['challenges']\n",
    "\n",
    "Categories = {};\n",
    "for row in coll .find ({}):\n",
    "    category \n",
    "    TwoDivs = re.search(',', row['used_as'])\n",
    "    Div2 = re.search('II', row['used_as'])\n",
    "    skip = re.search('Level One', row['used_as'])\n",
    "    if(skip == False):\n",
    "        continue;\n",
    "    SRM = 0;\n",
    "    if(TwoDivs): \n",
    "        try:\n",
    "            Result = re.search('SRM (\\d{1,4})', row['used_in'])\n",
    "            SRM = str(Result.group(1));\n",
    "        except:\n",
    "            continue;\n",
    "        if(SRM in competitors.keys()):\n",
    "            competitors[int(SRM)] += int(row['div_ii_competitors']);\n",
    "        else:\n",
    "            competitors[int(SRM)] = row['div_ii_competitors'];\n",
    "    else:\n",
    "        if(Div2):\n",
    "            try:\n",
    "                Result = re.search('SRM (\\d{1,4})', row['used_in'])\n",
    "                SRM = str(Result.group(1));\n",
    "            except:\n",
    "                continue;\n",
    "            if(SRM in competitors.keys()):\n",
    "                competitors[int(SRM)] += row['competitors'];\n",
    "            else:\n",
    "                competitors[int(SRM)] = row['competitors'];\n",
    "        else:\n",
    "            try:\n",
    "                Result = re.search('SRM (\\d{1,4})', row['used_in'])\n",
    "                SRM = str(Result.group(1));\n",
    "            except:\n",
    "                continue;\n",
    "            if(SRM in competitors.keys()):\n",
    "                competitors[int(SRM)] += row['competitors'];\n",
    "            else:\n",
    "                competitors[int(SRM)] = row['competitors'];\n",
    "\n",
    "            sorted_x = sorted(x.items(), key=operator.itemgetter(1))\n",
    "for k, v in sorted(Categories.items()):\n",
    "    print(k, '   ', v)\n"
   ]
  },
  {
   "cell_type": "code",
   "execution_count": null,
   "metadata": {
    "collapsed": true
   },
   "outputs": [],
   "source": []
  }
 ],
 "metadata": {
  "kernelspec": {
   "display_name": "Python 3",
   "language": "python",
   "name": "python3"
  },
  "language_info": {
   "codemirror_mode": {
    "name": "ipython",
    "version": 3
   },
   "file_extension": ".py",
   "mimetype": "text/x-python",
   "name": "python",
   "nbconvert_exporter": "python",
   "pygments_lexer": "ipython3",
   "version": "3.4.0"
  }
 },
 "nbformat": 4,
 "nbformat_minor": 0
}
